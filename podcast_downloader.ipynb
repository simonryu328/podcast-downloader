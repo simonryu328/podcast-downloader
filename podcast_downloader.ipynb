{
 "cells": [
  {
   "cell_type": "code",
   "execution_count": 20,
   "id": "4364ccb3-6898-49ab-a1a1-768112200e96",
   "metadata": {},
   "outputs": [],
   "source": [
    "import requests\n",
    "import os\n",
    "from bs4 import BeautifulSoup"
   ]
  },
  {
   "cell_type": "code",
   "execution_count": 8,
   "id": "8fc0348c-857b-4769-b266-8051b107320d",
   "metadata": {},
   "outputs": [],
   "source": [
    "# RSS is a web feed that allows users and applications to access updates to websites in a standardized, computer-readable format.\n",
    "rss_feed_url = \"https://lexfridman.com/feed/podcast/\"\n",
    "\n",
    "page = requests.get(rss_feed_url)\n",
    "soup = BeautifulSoup(page.content, 'xml')\n",
    "# print(page)"
   ]
  },
  {
   "cell_type": "code",
   "execution_count": 13,
   "id": "84774c18-5494-49ff-8474-80bb180af16f",
   "metadata": {},
   "outputs": [],
   "source": [
    "podcast_items = soup.find_all('item')"
   ]
  },
  {
   "cell_type": "code",
   "execution_count": 22,
   "id": "90ec31d5-69c9-4f86-9a04-b01315821cd4",
   "metadata": {},
   "outputs": [],
   "source": [
    "if not os.path.exists(\"./downloads\"):\n",
    "    os.makedirs(\"./downloads\")"
   ]
  },
  {
   "cell_type": "code",
   "execution_count": 23,
   "id": "24a15006-30e5-4291-b690-b96f758a5bfc",
   "metadata": {},
   "outputs": [],
   "source": [
    "for podcast in podcast_items[:2]:\n",
    "    title = podcast.find('title').text\n",
    "    mp3_url = podcast.find('enclosure')['url']\n",
    "    mp3_file = requests.get(mp3_url)\n",
    "    with open(f'./downloads/{title}', 'wb') as f:\n",
    "        f.write(mp3_file.content)\n",
    "\n",
    "                         "
   ]
  },
  {
   "cell_type": "code",
   "execution_count": 18,
   "id": "3c063d6d-c922-4362-b79a-fe932e956c29",
   "metadata": {},
   "outputs": [],
   "source": []
  },
  {
   "cell_type": "code",
   "execution_count": null,
   "id": "5b93a904-0dd8-4b05-bca6-064c40b44105",
   "metadata": {},
   "outputs": [],
   "source": []
  }
 ],
 "metadata": {
  "kernelspec": {
   "display_name": "Python 3 (ipykernel)",
   "language": "python",
   "name": "python3"
  },
  "language_info": {
   "codemirror_mode": {
    "name": "ipython",
    "version": 3
   },
   "file_extension": ".py",
   "mimetype": "text/x-python",
   "name": "python",
   "nbconvert_exporter": "python",
   "pygments_lexer": "ipython3",
   "version": "3.7.13"
  }
 },
 "nbformat": 4,
 "nbformat_minor": 5
}
